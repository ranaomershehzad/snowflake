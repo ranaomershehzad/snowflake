{
 "metadata": {
  "kernelspec": {
   "display_name": "Streamlit Notebook",
   "name": "streamlit"
  },
  "lastEditStatus": {
   "notebookId": "anlypxdup5c3nenf7jvr",
   "authorId": "8300685219917",
   "authorName": "RANAOMERSHEHZAD",
   "authorEmail": "ranaomershehzad@gmail.com",
   "sessionId": "babc000f-e3a7-4e11-a1dd-bdc1de606ba1",
   "lastEditTime": 1751195865593
  }
 },
 "nbformat_minor": 5,
 "nbformat": 4,
 "cells": [
  {
   "cell_type": "code",
   "id": "804a147e-df1c-4a37-994a-494309de4a62",
   "metadata": {
    "language": "sql",
    "name": "Personal_Expenses_Table"
   },
   "outputs": [],
   "source": "CREATE OR REPLACE TABLE EXPENSES_DB.PUBLIC.PERSONAL_EXPENSES (\n   tran_id          INT IDENTITY(1,1) PRIMARY KEY,\n   tran_date        DATE NOT NULL,\n   tran_details     VARCHAR(255),\n   amount           DECIMAL(10,2) NOT NULL,\n   cat_id           INT,\n   payment_method   VARCHAR(8)\n);",
   "execution_count": null
  },
  {
   "cell_type": "code",
   "id": "31635d87-98ee-48c5-9d5c-01fce141d032",
   "metadata": {
    "language": "sql",
    "name": "CATEGORY_LOOKUP_TABLE"
   },
   "outputs": [],
   "source": "CREATE OR REPLACE TABLE EXPENSES_DB.PUBLIC.CATEGORY_LOOKUP (\n\tCAT_ID INT PRIMARY KEY,\n\tCAT_TYPE VARCHAR(255),\n\tCAT_FILTER BOOLEAN\n);",
   "execution_count": null
  },
  {
   "cell_type": "code",
   "id": "ce6f00d3-49eb-4c90-8a80-ad053057737f",
   "metadata": {
    "language": "sql",
    "name": "EXPENSES_CATEGORY_TABLE"
   },
   "outputs": [],
   "source": "CREATE OR REPLACE TABLE EXPENSES_DB.PUBLIC.EXPENSES_CATEGORY (\n\tEXP_NAME    NVARCHAR(50),\n    CAT_ID      INT\n);",
   "execution_count": null
  },
  {
   "cell_type": "code",
   "id": "ffadaf9d-c73f-4e4b-8189-fb9248d647b5",
   "metadata": {
    "language": "sql",
    "name": "AMEX_EXPENSES"
   },
   "outputs": [],
   "source": "CREATE OR REPLACE TABLE EXPENSES_DB.PUBLIC.AMEX_EXPENSES (\n\tDATE VARCHAR(10),\n\tDESCRIPTION VARCHAR(255),\n\tAMOUNT NUMBER(38,2)\n);",
   "execution_count": null
  },
  {
   "cell_type": "code",
   "id": "d6fa2f62-6374-42ca-b265-d2ee1f4d6ec5",
   "metadata": {
    "language": "sql",
    "name": "COMMBANK_EXPENSES"
   },
   "outputs": [],
   "source": "CREATE OR REPLACE TABLE EXPENSES_DB.PUBLIC.COMMBANK_EXPENSES (\n\tDATE VARCHAR(10),\n\tAMOUNT NUMBER(38,2),\n\tDESCRIPTION VARCHAR(255)\n);",
   "execution_count": null
  }
 ]
}